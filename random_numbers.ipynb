{
 "cells": [
  {
   "cell_type": "code",
   "execution_count": 1,
   "id": "filled-exemption",
   "metadata": {},
   "outputs": [],
   "source": [
    "import random"
   ]
  },
  {
   "cell_type": "code",
   "execution_count": 2,
   "id": "seven-beverage",
   "metadata": {},
   "outputs": [
    {
     "data": {
      "text/plain": [
       "0.14910451352961007"
      ]
     },
     "execution_count": 2,
     "metadata": {},
     "output_type": "execute_result"
    }
   ],
   "source": [
    "random.random()"
   ]
  },
  {
   "cell_type": "code",
   "execution_count": 6,
   "id": "romantic-horizon",
   "metadata": {},
   "outputs": [
    {
     "data": {
      "text/plain": [
       "-5"
      ]
     },
     "execution_count": 6,
     "metadata": {},
     "output_type": "execute_result"
    }
   ],
   "source": [
    "random.randint(-10,10)"
   ]
  },
  {
   "cell_type": "code",
   "execution_count": 16,
   "id": "sonic-pride",
   "metadata": {},
   "outputs": [
    {
     "data": {
      "text/plain": [
       "8"
      ]
     },
     "execution_count": 16,
     "metadata": {},
     "output_type": "execute_result"
    }
   ],
   "source": [
    "random.randrange(-10,10,3)"
   ]
  },
  {
   "cell_type": "code",
   "execution_count": 14,
   "id": "skilled-thermal",
   "metadata": {},
   "outputs": [
    {
     "data": {
      "text/plain": [
       "6.339284510979898"
      ]
     },
     "execution_count": 14,
     "metadata": {},
     "output_type": "execute_result"
    }
   ],
   "source": [
    "random.uniform(-10,10)"
   ]
  },
  {
   "cell_type": "code",
   "execution_count": 19,
   "id": "imposed-asthma",
   "metadata": {},
   "outputs": [
    {
     "data": {
      "text/plain": [
       "[80.4209657638384,\n",
       " -62.65227976179378,\n",
       " -6.147514270895533,\n",
       " 85.72300598279442,\n",
       " 38.261501707303324,\n",
       " -13.142352583862333,\n",
       " 65.56774697955791,\n",
       " -35.09363706432207,\n",
       " -62.22920852384294,\n",
       " 70.59379365947797]"
      ]
     },
     "execution_count": 19,
     "metadata": {},
     "output_type": "execute_result"
    }
   ],
   "source": [
    "x = 1\n",
    "latitudes = []\n",
    "while x < 11:\n",
    "    random_lat = random.randint(-90,89)+random.random()\n",
    "    latitudes.append(random_lat)\n",
    "    x += 1\n",
    "latitudes"
   ]
  },
  {
   "cell_type": "code",
   "execution_count": 20,
   "id": "controlled-optics",
   "metadata": {},
   "outputs": [
    {
     "data": {
      "text/plain": [
       "-5"
      ]
     },
     "execution_count": 20,
     "metadata": {},
     "output_type": "execute_result"
    }
   ],
   "source": [
    "random.randrange(-90, 90, step=1)"
   ]
  },
  {
   "cell_type": "code",
   "execution_count": 22,
   "id": "enabling-default",
   "metadata": {},
   "outputs": [
    {
     "data": {
      "text/plain": [
       "54"
      ]
     },
     "execution_count": 22,
     "metadata": {},
     "output_type": "execute_result"
    }
   ],
   "source": [
    "random.randrange(-90,90,step=3)"
   ]
  },
  {
   "cell_type": "code",
   "execution_count": 23,
   "id": "difficult-johns",
   "metadata": {},
   "outputs": [
    {
     "data": {
      "text/plain": [
       "-17.05412695984289"
      ]
     },
     "execution_count": 23,
     "metadata": {},
     "output_type": "execute_result"
    }
   ],
   "source": [
    "random.uniform(-90,90)"
   ]
  },
  {
   "cell_type": "code",
   "execution_count": 25,
   "id": "scientific-texture",
   "metadata": {},
   "outputs": [],
   "source": [
    "# Import the NumPy module\n",
    "import numpy as np"
   ]
  },
  {
   "cell_type": "code",
   "execution_count": 26,
   "id": "taken-motor",
   "metadata": {},
   "outputs": [
    {
     "data": {
      "text/plain": [
       "-51.45515762654004"
      ]
     },
     "execution_count": 26,
     "metadata": {},
     "output_type": "execute_result"
    }
   ],
   "source": [
    "np.random.uniform(-90.000,90.000)"
   ]
  },
  {
   "cell_type": "code",
   "execution_count": 27,
   "id": "fallen-aruba",
   "metadata": {},
   "outputs": [
    {
     "data": {
      "text/plain": [
       "-57.82300097827881"
      ]
     },
     "execution_count": 27,
     "metadata": {},
     "output_type": "execute_result"
    }
   ],
   "source": [
    "np.random.uniform(low=-90,high=90)"
   ]
  },
  {
   "cell_type": "code",
   "execution_count": 33,
   "id": "frequent-orientation",
   "metadata": {},
   "outputs": [
    {
     "data": {
      "text/plain": [
       "array([ 15.83272924, -25.7758469 ,  79.42882686,  56.98333041,\n",
       "        64.8458015 ,  31.73068932,  30.23193829,   8.4458942 ,\n",
       "        -8.9218065 ,   9.93571236,  46.87104481, -17.56137344,\n",
       "        23.44968724, -83.17176165,  -8.69571008,  24.92216739,\n",
       "        71.75127129, -85.77147432,  86.2872269 , -12.05756374,\n",
       "        47.18699225, -79.73969528,  61.87328832,  -1.49462661,\n",
       "       -69.24234385, -37.16697978,  -9.90415275, -86.49810581,\n",
       "        52.10368758, -44.32044583,  63.94203754, -82.69315299,\n",
       "       -24.86300708, -74.74055922, -24.74965958,  20.94866095,\n",
       "       -21.94190746, -44.77580498,  29.66385826,  88.52111057,\n",
       "       -81.02788163, -84.87185783,  12.82401845, -52.63482418,\n",
       "       -34.92156523,  73.15032685,  35.096118  , -61.02362869,\n",
       "       -51.80263652,  -4.32250858])"
      ]
     },
     "execution_count": 33,
     "metadata": {},
     "output_type": "execute_result"
    }
   ],
   "source": [
    "np.random.uniform(-90.000,90.000, size=50)"
   ]
  },
  {
   "cell_type": "code",
   "execution_count": 34,
   "id": "transsexual-novel",
   "metadata": {},
   "outputs": [],
   "source": [
    "# Import timeit\n",
    "import timeit"
   ]
  },
  {
   "cell_type": "code",
   "execution_count": 39,
   "id": "biological-stereo",
   "metadata": {},
   "outputs": [
    {
     "name": "stdout",
     "output_type": "stream",
     "text": [
      "15.7 µs ± 640 ns per loop (mean ± std. dev. of 7 runs, 100000 loops each)\n"
     ]
    }
   ],
   "source": [
    "%timeit np.random.uniform(-90.000, 90.000, size=1500)"
   ]
  },
  {
   "cell_type": "code",
   "execution_count": 41,
   "id": "foreign-brunswick",
   "metadata": {},
   "outputs": [
    {
     "name": "stdout",
     "output_type": "stream",
     "text": [
      "1.54 ms ± 81.6 µs per loop (mean ± std. dev. of 7 runs, 1000 loops each)\n"
     ]
    },
    {
     "data": {
      "text/plain": [
       "<function __main__.latitudes(size)>"
      ]
     },
     "execution_count": 41,
     "metadata": {},
     "output_type": "execute_result"
    }
   ],
   "source": [
    "def latitudes(size):\n",
    "    latitudes = []\n",
    "    x = 0\n",
    "    while x < (size):\n",
    "        random_lat = random.randint(-90, 90) + random.random()\n",
    "        latitudes.append(random_lat)\n",
    "        x += 1\n",
    "    return latitudes\n",
    "# Call the function with 1500.\n",
    "%timeit latitudes(1500)\n",
    "latitudes"
   ]
  },
  {
   "cell_type": "code",
   "execution_count": null,
   "id": "skilled-thailand",
   "metadata": {},
   "outputs": [],
   "source": []
  }
 ],
 "metadata": {
  "kernelspec": {
   "display_name": "Python 3",
   "language": "python",
   "name": "python3"
  },
  "language_info": {
   "codemirror_mode": {
    "name": "ipython",
    "version": 3
   },
   "file_extension": ".py",
   "mimetype": "text/x-python",
   "name": "python",
   "nbconvert_exporter": "python",
   "pygments_lexer": "ipython3",
   "version": "3.8.5"
  }
 },
 "nbformat": 4,
 "nbformat_minor": 5
}
